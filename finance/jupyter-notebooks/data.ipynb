{
 "cells": [
  {
   "cell_type": "code",
   "execution_count": 1,
   "id": "80b4b567-fdc8-4a24-8616-b3d53788f468",
   "metadata": {
    "execution": {
     "iopub.execute_input": "2024-05-06T14:28:43.517264Z",
     "iopub.status.busy": "2024-05-06T14:28:43.516898Z",
     "iopub.status.idle": "2024-05-06T14:28:44.014695Z",
     "shell.execute_reply": "2024-05-06T14:28:44.013947Z",
     "shell.execute_reply.started": "2024-05-06T14:28:43.517234Z"
    }
   },
   "outputs": [],
   "source": [
    "import pandas as pd\n",
    "import yfinance as yf\n",
    "import numpy as np"
   ]
  },
  {
   "cell_type": "code",
   "execution_count": 2,
   "id": "b32aca4f-7572-47eb-9cf6-2d6ada50dad8",
   "metadata": {
    "execution": {
     "iopub.execute_input": "2024-05-06T14:28:44.016305Z",
     "iopub.status.busy": "2024-05-06T14:28:44.015620Z",
     "iopub.status.idle": "2024-05-06T14:28:45.341495Z",
     "shell.execute_reply": "2024-05-06T14:28:45.339754Z",
     "shell.execute_reply.started": "2024-05-06T14:28:44.016283Z"
    }
   },
   "outputs": [],
   "source": [
    "df = yf.download(\n",
    "    \"MSFT\",\n",
    "    start=\"2012-01-01\",\n",
    "    end=\"2021-12-31\",\n",
    "    progress=False\n",
    ")"
   ]
  },
  {
   "cell_type": "code",
   "execution_count": 3,
   "id": "959485e5-7c63-4933-b8aa-3fffc55b140d",
   "metadata": {
    "execution": {
     "iopub.execute_input": "2024-05-06T14:28:45.347520Z",
     "iopub.status.busy": "2024-05-06T14:28:45.346164Z",
     "iopub.status.idle": "2024-05-06T14:28:45.413379Z",
     "shell.execute_reply": "2024-05-06T14:28:45.412260Z",
     "shell.execute_reply.started": "2024-05-06T14:28:45.347422Z"
    }
   },
   "outputs": [
    {
     "data": {
      "text/html": [
       "<div>\n",
       "<style scoped>\n",
       "    .dataframe tbody tr th:only-of-type {\n",
       "        vertical-align: middle;\n",
       "    }\n",
       "\n",
       "    .dataframe tbody tr th {\n",
       "        vertical-align: top;\n",
       "    }\n",
       "\n",
       "    .dataframe thead th {\n",
       "        text-align: right;\n",
       "    }\n",
       "</style>\n",
       "<table border=\"1\" class=\"dataframe\">\n",
       "  <thead>\n",
       "    <tr style=\"text-align: right;\">\n",
       "      <th></th>\n",
       "      <th>Open</th>\n",
       "      <th>High</th>\n",
       "      <th>Low</th>\n",
       "      <th>Close</th>\n",
       "      <th>Adj Close</th>\n",
       "      <th>Volume</th>\n",
       "    </tr>\n",
       "  </thead>\n",
       "  <tbody>\n",
       "    <tr>\n",
       "      <th>count</th>\n",
       "      <td>2516.000000</td>\n",
       "      <td>2516.000000</td>\n",
       "      <td>2516.000000</td>\n",
       "      <td>2516.000000</td>\n",
       "      <td>2516.000000</td>\n",
       "      <td>2.516000e+03</td>\n",
       "    </tr>\n",
       "    <tr>\n",
       "      <th>mean</th>\n",
       "      <td>97.864400</td>\n",
       "      <td>98.764984</td>\n",
       "      <td>96.946363</td>\n",
       "      <td>97.916924</td>\n",
       "      <td>92.005988</td>\n",
       "      <td>3.391675e+07</td>\n",
       "    </tr>\n",
       "    <tr>\n",
       "      <th>std</th>\n",
       "      <td>78.092312</td>\n",
       "      <td>78.834571</td>\n",
       "      <td>77.353120</td>\n",
       "      <td>78.156466</td>\n",
       "      <td>77.911155</td>\n",
       "      <td>1.794715e+07</td>\n",
       "    </tr>\n",
       "    <tr>\n",
       "      <th>min</th>\n",
       "      <td>26.379999</td>\n",
       "      <td>26.629999</td>\n",
       "      <td>26.260000</td>\n",
       "      <td>26.370001</td>\n",
       "      <td>21.238752</td>\n",
       "      <td>7.425600e+06</td>\n",
       "    </tr>\n",
       "    <tr>\n",
       "      <th>25%</th>\n",
       "      <td>41.384999</td>\n",
       "      <td>41.727501</td>\n",
       "      <td>41.047500</td>\n",
       "      <td>41.480000</td>\n",
       "      <td>35.597112</td>\n",
       "      <td>2.282725e+07</td>\n",
       "    </tr>\n",
       "    <tr>\n",
       "      <th>50%</th>\n",
       "      <td>62.715000</td>\n",
       "      <td>63.135000</td>\n",
       "      <td>62.324999</td>\n",
       "      <td>62.690001</td>\n",
       "      <td>57.133511</td>\n",
       "      <td>2.963025e+07</td>\n",
       "    </tr>\n",
       "    <tr>\n",
       "      <th>75%</th>\n",
       "      <td>134.992504</td>\n",
       "      <td>136.295002</td>\n",
       "      <td>133.572506</td>\n",
       "      <td>135.314999</td>\n",
       "      <td>129.344173</td>\n",
       "      <td>3.954898e+07</td>\n",
       "    </tr>\n",
       "    <tr>\n",
       "      <th>max</th>\n",
       "      <td>344.619995</td>\n",
       "      <td>349.670013</td>\n",
       "      <td>342.200012</td>\n",
       "      <td>343.109985</td>\n",
       "      <td>336.315308</td>\n",
       "      <td>2.484285e+08</td>\n",
       "    </tr>\n",
       "  </tbody>\n",
       "</table>\n",
       "</div>"
      ],
      "text/plain": [
       "              Open         High          Low        Close    Adj Close  \\\n",
       "count  2516.000000  2516.000000  2516.000000  2516.000000  2516.000000   \n",
       "mean     97.864400    98.764984    96.946363    97.916924    92.005988   \n",
       "std      78.092312    78.834571    77.353120    78.156466    77.911155   \n",
       "min      26.379999    26.629999    26.260000    26.370001    21.238752   \n",
       "25%      41.384999    41.727501    41.047500    41.480000    35.597112   \n",
       "50%      62.715000    63.135000    62.324999    62.690001    57.133511   \n",
       "75%     134.992504   136.295002   133.572506   135.314999   129.344173   \n",
       "max     344.619995   349.670013   342.200012   343.109985   336.315308   \n",
       "\n",
       "             Volume  \n",
       "count  2.516000e+03  \n",
       "mean   3.391675e+07  \n",
       "std    1.794715e+07  \n",
       "min    7.425600e+06  \n",
       "25%    2.282725e+07  \n",
       "50%    2.963025e+07  \n",
       "75%    3.954898e+07  \n",
       "max    2.484285e+08  "
      ]
     },
     "execution_count": 3,
     "metadata": {},
     "output_type": "execute_result"
    }
   ],
   "source": [
    "df.describe()"
   ]
  },
  {
   "cell_type": "markdown",
   "id": "63a1af62-fda1-43ec-bbc9-7c4d4f9da30b",
   "metadata": {},
   "source": [
    "### Convert prices into returns\n",
    "\n",
    "By transforming the prices into returns we aim at make the time series stationary. There are two types of returns:\n",
    "\n",
    "- Simple returns: they aggregate over assets: eg\n",
    "  $$R_t = \\frac{P_t}{P_{t-1}-1}$$\n",
    "  \n",
    "- Log returns: they aggregate over time:\n",
    "  $$r_t = \\log\\Bigg(\\frac{P_t}{P_{t-1}}\\Bigg)$$\n",
    "\n",
    "In general log returns are preferred since, if we assume that the stock-prices are log-normally distributed, then the log returns would be normally distributed."
   ]
  },
  {
   "cell_type": "code",
   "execution_count": 4,
   "id": "aa071da5-5aa4-40f4-9d75-5e0eb9749c4f",
   "metadata": {
    "execution": {
     "iopub.execute_input": "2024-05-06T14:28:45.415640Z",
     "iopub.status.busy": "2024-05-06T14:28:45.414813Z",
     "iopub.status.idle": "2024-05-06T14:28:45.436153Z",
     "shell.execute_reply": "2024-05-06T14:28:45.435233Z",
     "shell.execute_reply.started": "2024-05-06T14:28:45.415581Z"
    }
   },
   "outputs": [
    {
     "data": {
      "text/html": [
       "<div>\n",
       "<style scoped>\n",
       "    .dataframe tbody tr th:only-of-type {\n",
       "        vertical-align: middle;\n",
       "    }\n",
       "\n",
       "    .dataframe tbody tr th {\n",
       "        vertical-align: top;\n",
       "    }\n",
       "\n",
       "    .dataframe thead th {\n",
       "        text-align: right;\n",
       "    }\n",
       "</style>\n",
       "<table border=\"1\" class=\"dataframe\">\n",
       "  <thead>\n",
       "    <tr style=\"text-align: right;\">\n",
       "      <th></th>\n",
       "      <th>Close</th>\n",
       "      <th>simple_rtn</th>\n",
       "      <th>log_rtn</th>\n",
       "    </tr>\n",
       "    <tr>\n",
       "      <th>Date</th>\n",
       "      <th></th>\n",
       "      <th></th>\n",
       "      <th></th>\n",
       "    </tr>\n",
       "  </thead>\n",
       "  <tbody>\n",
       "    <tr>\n",
       "      <th>2012-01-03</th>\n",
       "      <td>26.770000</td>\n",
       "      <td>NaN</td>\n",
       "      <td>NaN</td>\n",
       "    </tr>\n",
       "    <tr>\n",
       "      <th>2012-01-04</th>\n",
       "      <td>27.400000</td>\n",
       "      <td>0.023534</td>\n",
       "      <td>0.023261</td>\n",
       "    </tr>\n",
       "    <tr>\n",
       "      <th>2012-01-05</th>\n",
       "      <td>27.680000</td>\n",
       "      <td>0.010219</td>\n",
       "      <td>0.010167</td>\n",
       "    </tr>\n",
       "    <tr>\n",
       "      <th>2012-01-06</th>\n",
       "      <td>28.110001</td>\n",
       "      <td>0.015535</td>\n",
       "      <td>0.015415</td>\n",
       "    </tr>\n",
       "    <tr>\n",
       "      <th>2012-01-09</th>\n",
       "      <td>27.740000</td>\n",
       "      <td>-0.013163</td>\n",
       "      <td>-0.013250</td>\n",
       "    </tr>\n",
       "    <tr>\n",
       "      <th>...</th>\n",
       "      <td>...</td>\n",
       "      <td>...</td>\n",
       "      <td>...</td>\n",
       "    </tr>\n",
       "    <tr>\n",
       "      <th>2021-12-23</th>\n",
       "      <td>334.690002</td>\n",
       "      <td>0.004472</td>\n",
       "      <td>0.004462</td>\n",
       "    </tr>\n",
       "    <tr>\n",
       "      <th>2021-12-27</th>\n",
       "      <td>342.450012</td>\n",
       "      <td>0.023186</td>\n",
       "      <td>0.022921</td>\n",
       "    </tr>\n",
       "    <tr>\n",
       "      <th>2021-12-28</th>\n",
       "      <td>341.250000</td>\n",
       "      <td>-0.003504</td>\n",
       "      <td>-0.003510</td>\n",
       "    </tr>\n",
       "    <tr>\n",
       "      <th>2021-12-29</th>\n",
       "      <td>341.950012</td>\n",
       "      <td>0.002051</td>\n",
       "      <td>0.002049</td>\n",
       "    </tr>\n",
       "    <tr>\n",
       "      <th>2021-12-30</th>\n",
       "      <td>339.320007</td>\n",
       "      <td>-0.007691</td>\n",
       "      <td>-0.007721</td>\n",
       "    </tr>\n",
       "  </tbody>\n",
       "</table>\n",
       "<p>2516 rows × 3 columns</p>\n",
       "</div>"
      ],
      "text/plain": [
       "                 Close  simple_rtn   log_rtn\n",
       "Date                                        \n",
       "2012-01-03   26.770000         NaN       NaN\n",
       "2012-01-04   27.400000    0.023534  0.023261\n",
       "2012-01-05   27.680000    0.010219  0.010167\n",
       "2012-01-06   28.110001    0.015535  0.015415\n",
       "2012-01-09   27.740000   -0.013163 -0.013250\n",
       "...                ...         ...       ...\n",
       "2021-12-23  334.690002    0.004472  0.004462\n",
       "2021-12-27  342.450012    0.023186  0.022921\n",
       "2021-12-28  341.250000   -0.003504 -0.003510\n",
       "2021-12-29  341.950012    0.002051  0.002049\n",
       "2021-12-30  339.320007   -0.007691 -0.007721\n",
       "\n",
       "[2516 rows x 3 columns]"
      ]
     },
     "execution_count": 4,
     "metadata": {},
     "output_type": "execute_result"
    }
   ],
   "source": [
    "#df = df[[\"Close\"]]\n",
    "df = df.loc[:, [\"Close\"]]\n",
    "df[\"simple_rtn\"] = df.Close.pct_change()  # percentage change from pandas package\n",
    "df[\"log_rtn\"] = np.log(df.Close/df.Close.shift(1))\n",
    "df"
   ]
  },
  {
   "cell_type": "markdown",
   "id": "f996e5f6-b842-46bd-b36b-bc1996cf515f",
   "metadata": {},
   "source": [
    "### Adjusting for inflation\n",
    "\n",
    "We want to decouple the growth of the stock prices from the inflation. We can do so by using this formula \n",
    "$$ R^r_t = \\frac{1+R_t}{1+\\pi_t}-1$$\n",
    "\n",
    "where $\\pi_t$ is the inflation rate."
   ]
  },
  {
   "cell_type": "code",
   "execution_count": 5,
   "id": "7b9ceb73-2200-46fb-959f-e8b13115e168",
   "metadata": {
    "execution": {
     "iopub.execute_input": "2024-05-06T14:28:45.438487Z",
     "iopub.status.busy": "2024-05-06T14:28:45.437950Z",
     "iopub.status.idle": "2024-05-06T14:29:47.308367Z",
     "shell.execute_reply": "2024-05-06T14:29:47.307551Z",
     "shell.execute_reply.started": "2024-05-06T14:28:45.438434Z"
    }
   },
   "outputs": [
    {
     "data": {
      "text/html": [
       "<div>\n",
       "<style scoped>\n",
       "    .dataframe tbody tr th:only-of-type {\n",
       "        vertical-align: middle;\n",
       "    }\n",
       "\n",
       "    .dataframe tbody tr th {\n",
       "        vertical-align: top;\n",
       "    }\n",
       "\n",
       "    .dataframe thead th {\n",
       "        text-align: right;\n",
       "    }\n",
       "</style>\n",
       "<table border=\"1\" class=\"dataframe\">\n",
       "  <thead>\n",
       "    <tr style=\"text-align: right;\">\n",
       "      <th></th>\n",
       "      <th>value</th>\n",
       "    </tr>\n",
       "    <tr>\n",
       "      <th>date</th>\n",
       "      <th></th>\n",
       "    </tr>\n",
       "  </thead>\n",
       "  <tbody>\n",
       "    <tr>\n",
       "      <th>2011-01-01</th>\n",
       "      <td>220.223</td>\n",
       "    </tr>\n",
       "    <tr>\n",
       "      <th>2011-02-01</th>\n",
       "      <td>221.309</td>\n",
       "    </tr>\n",
       "    <tr>\n",
       "      <th>2011-03-01</th>\n",
       "      <td>223.467</td>\n",
       "    </tr>\n",
       "    <tr>\n",
       "      <th>2011-04-01</th>\n",
       "      <td>224.906</td>\n",
       "    </tr>\n",
       "    <tr>\n",
       "      <th>2011-05-01</th>\n",
       "      <td>225.964</td>\n",
       "    </tr>\n",
       "    <tr>\n",
       "      <th>2011-06-01</th>\n",
       "      <td>225.722</td>\n",
       "    </tr>\n",
       "    <tr>\n",
       "      <th>2011-07-01</th>\n",
       "      <td>225.922</td>\n",
       "    </tr>\n",
       "    <tr>\n",
       "      <th>2011-08-01</th>\n",
       "      <td>226.545</td>\n",
       "    </tr>\n",
       "    <tr>\n",
       "      <th>2011-09-01</th>\n",
       "      <td>226.889</td>\n",
       "    </tr>\n",
       "    <tr>\n",
       "      <th>2011-10-01</th>\n",
       "      <td>226.421</td>\n",
       "    </tr>\n",
       "    <tr>\n",
       "      <th>2011-11-01</th>\n",
       "      <td>226.230</td>\n",
       "    </tr>\n",
       "    <tr>\n",
       "      <th>2011-12-01</th>\n",
       "      <td>225.672</td>\n",
       "    </tr>\n",
       "  </tbody>\n",
       "</table>\n",
       "</div>"
      ],
      "text/plain": [
       "              value\n",
       "date               \n",
       "2011-01-01  220.223\n",
       "2011-02-01  221.309\n",
       "2011-03-01  223.467\n",
       "2011-04-01  224.906\n",
       "2011-05-01  225.964\n",
       "2011-06-01  225.722\n",
       "2011-07-01  225.922\n",
       "2011-08-01  226.545\n",
       "2011-09-01  226.889\n",
       "2011-10-01  226.421\n",
       "2011-11-01  226.230\n",
       "2011-12-01  225.672"
      ]
     },
     "execution_count": 5,
     "metadata": {},
     "output_type": "execute_result"
    }
   ],
   "source": [
    "# Import the Consumer Price Index from the cpi package and query the correct entries\n",
    "import cpi \n",
    "cpi.update()\n",
    "cpi_series = cpi.series.get()\n",
    "df_cpi = cpi_series.to_dataframe()\n",
    "df_cpi.query(\"period_type == 'monthly' and year > 2010\") \\\n",
    "    .loc[:, [\"date\", \"value\"]] \\\n",
    "    .set_index(\"date\") \\\n",
    "    .head(12)\n"
   ]
  },
  {
   "cell_type": "code",
   "execution_count": 6,
   "id": "638259ad-8dc6-4458-9410-d42daa9cc9a4",
   "metadata": {
    "execution": {
     "iopub.execute_input": "2024-05-06T14:29:47.309836Z",
     "iopub.status.busy": "2024-05-06T14:29:47.309321Z",
     "iopub.status.idle": "2024-05-06T14:29:47.711390Z",
     "shell.execute_reply": "2024-05-06T14:29:47.710512Z",
     "shell.execute_reply.started": "2024-05-06T14:29:47.309811Z"
    }
   },
   "outputs": [],
   "source": [
    "import matplotlib.pyplot as plt"
   ]
  },
  {
   "cell_type": "code",
   "execution_count": 7,
   "id": "f8d3617c-5c60-4afc-b0ca-f6b0c53e660b",
   "metadata": {
    "execution": {
     "iopub.execute_input": "2024-05-06T14:29:47.713513Z",
     "iopub.status.busy": "2024-05-06T14:29:47.712623Z",
     "iopub.status.idle": "2024-05-06T14:29:48.052606Z",
     "shell.execute_reply": "2024-05-06T14:29:48.051742Z",
     "shell.execute_reply.started": "2024-05-06T14:29:47.713466Z"
    }
   },
   "outputs": [
    {
     "data": {
      "text/plain": [
       "[<matplotlib.lines.Line2D at 0x7fd1697c7340>]"
      ]
     },
     "execution_count": 7,
     "metadata": {},
     "output_type": "execute_result"
    },
    {
     "data": {
      "image/png": "[encoded data removed]",
      "text/plain": [
       "<Figure size 640x480 with 1 Axes>"
      ]
     },
     "metadata": {},
     "output_type": "display_data"
    }
   ],
   "source": [
    "plt.plot(df.log_rtn)"
   ]
  },
  {
   "cell_type": "code",
   "execution_count": 8,
   "id": "1225d7bd-95fe-416b-8cd5-6518ff515260",
   "metadata": {
    "execution": {
     "iopub.execute_input": "2024-05-06T14:29:48.054603Z",
     "iopub.status.busy": "2024-05-06T14:29:48.053842Z",
     "iopub.status.idle": "2024-05-06T14:29:48.060946Z",
     "shell.execute_reply": "2024-05-06T14:29:48.060177Z",
     "shell.execute_reply.started": "2024-05-06T14:29:48.054558Z"
    }
   },
   "outputs": [],
   "source": [
    "df.dropna(inplace=True)"
   ]
  },
  {
   "cell_type": "code",
   "execution_count": 9,
   "id": "ee25e157-29bf-4b11-a73a-581e95a9d56b",
   "metadata": {
    "execution": {
     "iopub.execute_input": "2024-05-06T14:29:48.062486Z",
     "iopub.status.busy": "2024-05-06T14:29:48.062019Z",
     "iopub.status.idle": "2024-05-06T14:29:48.070048Z",
     "shell.execute_reply": "2024-05-06T14:29:48.068863Z",
     "shell.execute_reply.started": "2024-05-06T14:29:48.062440Z"
    }
   },
   "outputs": [],
   "source": [
    "X = df[[\"Close\", \"log_rtn\"]]"
   ]
  },
  {
   "cell_type": "code",
   "execution_count": 10,
   "id": "156a03e8-7015-4def-a7e5-f5edec121c07",
   "metadata": {
    "execution": {
     "iopub.execute_input": "2024-05-06T14:29:48.072443Z",
     "iopub.status.busy": "2024-05-06T14:29:48.071671Z",
     "iopub.status.idle": "2024-05-06T14:29:48.453534Z",
     "shell.execute_reply": "2024-05-06T14:29:48.452757Z",
     "shell.execute_reply.started": "2024-05-06T14:29:48.072398Z"
    }
   },
   "outputs": [],
   "source": [
    "from sklearn.preprocessing import MinMaxScaler"
   ]
  },
  {
   "cell_type": "code",
   "execution_count": 11,
   "id": "d4501c7d-1b8f-469f-aedb-d90300b28146",
   "metadata": {
    "execution": {
     "iopub.execute_input": "2024-05-06T14:29:48.455115Z",
     "iopub.status.busy": "2024-05-06T14:29:48.454632Z",
     "iopub.status.idle": "2024-05-06T14:29:48.465613Z",
     "shell.execute_reply": "2024-05-06T14:29:48.464509Z",
     "shell.execute_reply.started": "2024-05-06T14:29:48.455080Z"
    }
   },
   "outputs": [],
   "source": [
    "scaler = MinMaxScaler(feature_range=(0,1))\n",
    "scaler.fit(df)\n",
    "df_scaled = scaler.transform(df)\n",
    "X = df_scaled[:, 0]\n",
    "y = df_scaled[:, 2]"
   ]
  },
  {
   "cell_type": "markdown",
   "id": "a9918698-bc63-43c6-a2e6-39b60a844e7a",
   "metadata": {
    "execution": {
     "iopub.execute_input": "2024-05-06T13:38:33.817876Z",
     "iopub.status.busy": "2024-05-06T13:38:33.817143Z",
     "iopub.status.idle": "2024-05-06T13:38:33.822432Z",
     "shell.execute_reply": "2024-05-06T13:38:33.821269Z",
     "shell.execute_reply.started": "2024-05-06T13:38:33.817839Z"
    }
   },
   "source": [
    "# Train/test split"
   ]
  },
  {
   "cell_type": "code",
   "execution_count": 13,
   "id": "3b192f0c-4dde-4364-bb00-be98befd9f56",
   "metadata": {
    "execution": {
     "iopub.execute_input": "2024-05-06T14:30:25.917370Z",
     "iopub.status.busy": "2024-05-06T14:30:25.916928Z",
     "iopub.status.idle": "2024-05-06T14:30:25.924440Z",
     "shell.execute_reply": "2024-05-06T14:30:25.923336Z",
     "shell.execute_reply.started": "2024-05-06T14:30:25.917331Z"
    }
   },
   "outputs": [
    {
     "data": {
      "text/plain": [
       "2012"
      ]
     },
     "execution_count": 13,
     "metadata": {},
     "output_type": "execute_result"
    }
   ],
   "source": [
    "split =  int(len(df_scaled) * 0.8)\n",
    "split"
   ]
  },
  {
   "cell_type": "code",
   "execution_count": 14,
   "id": "aeeb77d5-020f-49fe-b02c-4c663bcf2b12",
   "metadata": {
    "execution": {
     "iopub.execute_input": "2024-05-06T14:30:26.237130Z",
     "iopub.status.busy": "2024-05-06T14:30:26.236602Z",
     "iopub.status.idle": "2024-05-06T14:30:26.242328Z",
     "shell.execute_reply": "2024-05-06T14:30:26.240763Z",
     "shell.execute_reply.started": "2024-05-06T14:30:26.237088Z"
    }
   },
   "outputs": [],
   "source": [
    "X_train = X[:split]\n",
    "X_test = X[split:]\n",
    "y_train = y[:split]\n",
    "y_test = y[split:]"
   ]
  },
  {
   "cell_type": "code",
   "execution_count": 15,
   "id": "8aee2a81-224a-4fa9-bafa-1fe08b4a8da0",
   "metadata": {
    "execution": {
     "iopub.execute_input": "2024-05-06T14:30:26.678003Z",
     "iopub.status.busy": "2024-05-06T14:30:26.675133Z",
     "iopub.status.idle": "2024-05-06T14:30:26.933160Z",
     "shell.execute_reply": "2024-05-06T14:30:26.932189Z",
     "shell.execute_reply.started": "2024-05-06T14:30:26.677850Z"
    }
   },
   "outputs": [
    {
     "data": {
      "text/plain": [
       "[<matplotlib.lines.Line2D at 0x7fd1790c8160>]"
      ]
     },
     "execution_count": 15,
     "metadata": {},
     "output_type": "execute_result"
    },
    {
     "data": {
      "image/png": "[encoded data removed]",
      "text/plain": [
       "<Figure size 640x480 with 1 Axes>"
      ]
     },
     "metadata": {},
     "output_type": "display_data"
    }
   ],
   "source": [
    "plt.plot(list(range(len(y_train))), y_train)\n",
    "plt.plot(list(range(len(y_train), len(y_train)+len(y_test))), y_test)"
   ]
  },
  {
   "cell_type": "code",
   "execution_count": 16,
   "id": "451d50ff-8b6d-41de-920b-df1f831692e2",
   "metadata": {
    "execution": {
     "iopub.execute_input": "2024-05-06T14:30:27.137053Z",
     "iopub.status.busy": "2024-05-06T14:30:27.136461Z",
     "iopub.status.idle": "2024-05-06T14:30:27.169736Z",
     "shell.execute_reply": "2024-05-06T14:30:27.168410Z",
     "shell.execute_reply.started": "2024-05-06T14:30:27.137013Z"
    }
   },
   "outputs": [
    {
     "name": "stdout",
     "output_type": "stream",
     "text": [
      "(2012,)\n"
     ]
    },
    {
     "ename": "IndexError",
     "evalue": "tuple index out of range",
     "output_type": "error",
     "traceback": [
      "\u001b[0;31m---------------------------------------------------------------------------\u001b[0m",
      "\u001b[0;31mIndexError\u001b[0m                                Traceback (most recent call last)",
      "Cell \u001b[0;32mIn[16], line 4\u001b[0m\n\u001b[1;32m      2\u001b[0m \u001b[38;5;28mprint\u001b[39m(X_train\u001b[38;5;241m.\u001b[39mshape)\n\u001b[1;32m      3\u001b[0m \u001b[38;5;28;01mfor\u001b[39;00m i \u001b[38;5;129;01min\u001b[39;00m \u001b[38;5;28mrange\u001b[39m(n, \u001b[38;5;28mlen\u001b[39m(X_train)):\n\u001b[0;32m----> 4\u001b[0m     \u001b[38;5;28mprint\u001b[39m(X_train[i\u001b[38;5;241m-\u001b[39mn:i, : \u001b[43mX_train\u001b[49m\u001b[38;5;241;43m.\u001b[39;49m\u001b[43mshape\u001b[49m\u001b[43m[\u001b[49m\u001b[38;5;241;43m1\u001b[39;49m\u001b[43m]\u001b[49m])\n",
      "\u001b[0;31mIndexError\u001b[0m: tuple index out of range"
     ]
    }
   ],
   "source": [
    "n = 3\n",
    "print(X_train.shape)\n",
    "for i in range(n, len(X_train)):\n",
    "    print(X_train[i-n:i, : X_train.shape[1]])"
   ]
  },
  {
   "cell_type": "code",
   "execution_count": 17,
   "id": "50dd4eb2-c8dd-4849-afd9-ef3fbcf8399a",
   "metadata": {
    "execution": {
     "iopub.execute_input": "2024-05-06T14:30:29.299508Z",
     "iopub.status.busy": "2024-05-06T14:30:29.298757Z",
     "iopub.status.idle": "2024-05-06T14:30:29.312785Z",
     "shell.execute_reply": "2024-05-06T14:30:29.310659Z",
     "shell.execute_reply.started": "2024-05-06T14:30:29.299439Z"
    }
   },
   "outputs": [],
   "source": [
    "bags_of_x = []\n",
    "bags_of_y = []\n",
    "\n",
    "for i in range(n, len(X_train)):\n",
    "    bags_of_x.append(X_train[i-n:i])\n",
    "    bags_of_y.append(y_train[i])"
   ]
  },
  {
   "cell_type": "code",
   "execution_count": 18,
   "id": "dc8f298a-0caf-4e02-b80d-64ac08cfb41f",
   "metadata": {
    "execution": {
     "iopub.execute_input": "2024-05-06T14:30:29.846851Z",
     "iopub.status.busy": "2024-05-06T14:30:29.844005Z",
     "iopub.status.idle": "2024-05-06T14:30:32.434659Z",
     "shell.execute_reply": "2024-05-06T14:30:32.433496Z",
     "shell.execute_reply.started": "2024-05-06T14:30:29.846708Z"
    }
   },
   "outputs": [
    {
     "name": "stderr",
     "output_type": "stream",
     "text": [
      "2024-05-06 16:30:30.465839: I external/local_tsl/tsl/cuda/cudart_stub.cc:32] Could not find cuda drivers on your machine, GPU will not be used.\n",
      "2024-05-06 16:30:30.531002: I external/local_tsl/tsl/cuda/cudart_stub.cc:32] Could not find cuda drivers on your machine, GPU will not be used.\n",
      "2024-05-06 16:30:30.776413: I tensorflow/core/platform/cpu_feature_guard.cc:210] This TensorFlow binary is optimized to use available CPU instructions in performance-critical operations.\n",
      "To enable the following instructions: AVX2 FMA, in other operations, rebuild TensorFlow with the appropriate compiler flags.\n",
      "2024-05-06 16:30:31.651651: W tensorflow/compiler/tf2tensorrt/utils/py_utils.cc:38] TF-TRT Warning: Could not find TensorRT\n"
     ]
    },
    {
     "ename": "ValueError",
     "evalue": "cannot reshape array of size 503 into shape (1,2)",
     "output_type": "error",
     "traceback": [
      "\u001b[0;31m---------------------------------------------------------------------------\u001b[0m",
      "\u001b[0;31mValueError\u001b[0m                                Traceback (most recent call last)",
      "Cell \u001b[0;32mIn[18], line 10\u001b[0m\n\u001b[1;32m      5\u001b[0m \u001b[38;5;66;03m# Prepare data\u001b[39;00m\n\u001b[1;32m      6\u001b[0m \u001b[38;5;66;03m# X_train, X_test, y_train, y_test are already defined from your code\u001b[39;00m\n\u001b[1;32m      7\u001b[0m \n\u001b[1;32m      8\u001b[0m \u001b[38;5;66;03m# Reshape the data for LSTM input\u001b[39;00m\n\u001b[1;32m      9\u001b[0m X_train \u001b[38;5;241m=\u001b[39m X_train\u001b[38;5;241m.\u001b[39mreshape(\u001b[38;5;241m-\u001b[39m\u001b[38;5;241m1\u001b[39m, \u001b[38;5;241m1\u001b[39m, \u001b[38;5;241m2\u001b[39m)  \u001b[38;5;66;03m# Reshape to (samples, timesteps, features)\u001b[39;00m\n\u001b[0;32m---> 10\u001b[0m X_test \u001b[38;5;241m=\u001b[39m \u001b[43mX_test\u001b[49m\u001b[38;5;241;43m.\u001b[39;49m\u001b[43mreshape\u001b[49m\u001b[43m(\u001b[49m\u001b[38;5;241;43m-\u001b[39;49m\u001b[38;5;241;43m1\u001b[39;49m\u001b[43m,\u001b[49m\u001b[43m \u001b[49m\u001b[38;5;241;43m1\u001b[39;49m\u001b[43m,\u001b[49m\u001b[43m \u001b[49m\u001b[38;5;241;43m2\u001b[39;49m\u001b[43m)\u001b[49m\n\u001b[1;32m     12\u001b[0m \u001b[38;5;66;03m# Define the LSTM model\u001b[39;00m\n\u001b[1;32m     13\u001b[0m model \u001b[38;5;241m=\u001b[39m Sequential([\n\u001b[1;32m     14\u001b[0m     LSTM(units\u001b[38;5;241m=\u001b[39m\u001b[38;5;241m50\u001b[39m, activation\u001b[38;5;241m=\u001b[39m\u001b[38;5;124m'\u001b[39m\u001b[38;5;124mrelu\u001b[39m\u001b[38;5;124m'\u001b[39m, input_shape\u001b[38;5;241m=\u001b[39m(\u001b[38;5;241m1\u001b[39m, \u001b[38;5;241m2\u001b[39m)),\n\u001b[1;32m     15\u001b[0m     Dense(units\u001b[38;5;241m=\u001b[39m\u001b[38;5;241m1\u001b[39m)\n\u001b[1;32m     16\u001b[0m ])\n",
      "\u001b[0;31mValueError\u001b[0m: cannot reshape array of size 503 into shape (1,2)"
     ]
    }
   ],
   "source": [
    "import numpy as np\n",
    "from tensorflow.keras.models import Sequential\n",
    "from tensorflow.keras.layers import LSTM, Dense\n",
    "\n",
    "# Prepare data\n",
    "# X_train, X_test, y_train, y_test are already defined from your code\n",
    "\n",
    "# Reshape the data for LSTM input\n",
    "X_train = X_train.reshape(-1, 1, 2)  # Reshape to (samples, timesteps, features)\n",
    "X_test = X_test.reshape(-1, 1, 2)\n",
    "\n",
    "# Define the LSTM model\n",
    "model = Sequential([\n",
    "    LSTM(units=50, activation='relu', input_shape=(1, 2)),\n",
    "    Dense(units=1)\n",
    "])\n",
    "\n",
    "# Compile the model\n",
    "model.compile(optimizer='adam', loss='mean_squared_error')\n",
    "\n",
    "# Train the model\n",
    "model.fit(X_train, y_train, epochs=100, batch_size=32, verbose=1)\n",
    "\n",
    "# Evaluate the model\n",
    "loss = model.evaluate(X_test, y_test)\n",
    "print(\"Test Loss:\", loss)\n"
   ]
  },
  {
   "cell_type": "code",
   "execution_count": null,
   "id": "19074aaf-2df0-4bdd-8e74-89f5dc5eefcd",
   "metadata": {
    "execution": {
     "iopub.status.busy": "2024-05-06T14:29:48.765308Z",
     "iopub.status.idle": "2024-05-06T14:29:48.766271Z",
     "shell.execute_reply": "2024-05-06T14:29:48.766011Z",
     "shell.execute_reply.started": "2024-05-06T14:29:48.765981Z"
    }
   },
   "outputs": [],
   "source": [
    "!poetry add tensorflow\n"
   ]
  },
  {
   "cell_type": "code",
   "execution_count": null,
   "id": "8de7a6db-b5b7-4d94-8109-46ca9b28c990",
   "metadata": {},
   "outputs": [],
   "source": []
  }
 ],
 "metadata": {
  "kernelspec": {
   "display_name": "Python 3 (ipykernel)",
   "language": "python",
   "name": "python3"
  },
  "language_info": {
   "codemirror_mode": {
    "name": "ipython",
    "version": 3
   },
   "file_extension": ".py",
   "mimetype": "text/x-python",
   "name": "python",
   "nbconvert_exporter": "python",
   "pygments_lexer": "ipython3",
   "version": "3.10.12"
  }
 },
 "nbformat": 4,
 "nbformat_minor": 5
}
