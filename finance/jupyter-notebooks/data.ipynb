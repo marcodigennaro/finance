{
 "cells": [
  {
   "cell_type": "code",
   "execution_count": 1,
   "id": "80b4b567-fdc8-4a24-8616-b3d53788f468",
   "metadata": {
    "execution": {
     "iopub.execute_input": "2024-05-07T15:02:32.854097Z",
     "iopub.status.busy": "2024-05-07T15:02:32.853259Z",
     "iopub.status.idle": "2024-05-07T15:02:33.596494Z",
     "shell.execute_reply": "2024-05-07T15:02:33.595603Z",
     "shell.execute_reply.started": "2024-05-07T15:02:32.854049Z"
    }
   },
   "outputs": [],
   "source": [
    "import pandas as pd\n",
    "import yfinance as yf\n",
    "import numpy as np"
   ]
  },
  {
   "cell_type": "code",
   "execution_count": 2,
   "id": "b32aca4f-7572-47eb-9cf6-2d6ada50dad8",
   "metadata": {
    "execution": {
     "iopub.execute_input": "2024-05-07T15:02:33.599346Z",
     "iopub.status.busy": "2024-05-07T15:02:33.597799Z",
     "iopub.status.idle": "2024-05-07T15:02:34.975687Z",
     "shell.execute_reply": "2024-05-07T15:02:34.974690Z",
     "shell.execute_reply.started": "2024-05-07T15:02:33.599282Z"
    }
   },
   "outputs": [],
   "source": [
    "df = yf.download(\n",
    "    \"MSFT\",\n",
    "    start=\"2012-01-01\",\n",
    "    end=\"2021-12-31\",\n",
    "    progress=False\n",
    ")"
   ]
  },
  {
   "cell_type": "code",
   "execution_count": 3,
   "id": "84c59edb-128e-41a2-929b-bd480a66eb37",
   "metadata": {
    "execution": {
     "iopub.execute_input": "2024-05-07T15:02:34.978023Z",
     "iopub.status.busy": "2024-05-07T15:02:34.977694Z",
     "iopub.status.idle": "2024-05-07T15:02:34.983471Z",
     "shell.execute_reply": "2024-05-07T15:02:34.981636Z",
     "shell.execute_reply.started": "2024-05-07T15:02:34.977987Z"
    }
   },
   "outputs": [],
   "source": [
    "#df = df.head(100)"
   ]
  },
  {
   "cell_type": "code",
   "execution_count": 4,
   "id": "959485e5-7c63-4933-b8aa-3fffc55b140d",
   "metadata": {
    "execution": {
     "iopub.execute_input": "2024-05-07T15:02:34.987301Z",
     "iopub.status.busy": "2024-05-07T15:02:34.985920Z",
     "iopub.status.idle": "2024-05-07T15:02:35.007999Z",
     "shell.execute_reply": "2024-05-07T15:02:35.006293Z",
     "shell.execute_reply.started": "2024-05-07T15:02:34.987239Z"
    }
   },
   "outputs": [
    {
     "data": {
      "text/html": [
       "<div>\n",
       "<style scoped>\n",
       "    .dataframe tbody tr th:only-of-type {\n",
       "        vertical-align: middle;\n",
       "    }\n",
       "\n",
       "    .dataframe tbody tr th {\n",
       "        vertical-align: top;\n",
       "    }\n",
       "\n",
       "    .dataframe thead th {\n",
       "        text-align: right;\n",
       "    }\n",
       "</style>\n",
       "<table border=\"1\" class=\"dataframe\">\n",
       "  <thead>\n",
       "    <tr style=\"text-align: right;\">\n",
       "      <th></th>\n",
       "      <th>Open</th>\n",
       "      <th>High</th>\n",
       "      <th>Low</th>\n",
       "      <th>Close</th>\n",
       "      <th>Adj Close</th>\n",
       "      <th>Volume</th>\n",
       "    </tr>\n",
       "    <tr>\n",
       "      <th>Date</th>\n",
       "      <th></th>\n",
       "      <th></th>\n",
       "      <th></th>\n",
       "      <th></th>\n",
       "      <th></th>\n",
       "      <th></th>\n",
       "    </tr>\n",
       "  </thead>\n",
       "  <tbody>\n",
       "    <tr>\n",
       "      <th>2012-01-03</th>\n",
       "      <td>26.549999</td>\n",
       "      <td>26.959999</td>\n",
       "      <td>26.389999</td>\n",
       "      <td>26.770000</td>\n",
       "      <td>21.238756</td>\n",
       "      <td>64731500</td>\n",
       "    </tr>\n",
       "    <tr>\n",
       "      <th>2012-01-04</th>\n",
       "      <td>26.820000</td>\n",
       "      <td>27.469999</td>\n",
       "      <td>26.780001</td>\n",
       "      <td>27.400000</td>\n",
       "      <td>21.738583</td>\n",
       "      <td>80516100</td>\n",
       "    </tr>\n",
       "    <tr>\n",
       "      <th>2012-01-05</th>\n",
       "      <td>27.379999</td>\n",
       "      <td>27.730000</td>\n",
       "      <td>27.290001</td>\n",
       "      <td>27.680000</td>\n",
       "      <td>21.960726</td>\n",
       "      <td>56081400</td>\n",
       "    </tr>\n",
       "    <tr>\n",
       "      <th>2012-01-06</th>\n",
       "      <td>27.530001</td>\n",
       "      <td>28.190001</td>\n",
       "      <td>27.530001</td>\n",
       "      <td>28.110001</td>\n",
       "      <td>22.301878</td>\n",
       "      <td>99455500</td>\n",
       "    </tr>\n",
       "    <tr>\n",
       "      <th>2012-01-09</th>\n",
       "      <td>28.049999</td>\n",
       "      <td>28.100000</td>\n",
       "      <td>27.719999</td>\n",
       "      <td>27.740000</td>\n",
       "      <td>22.008331</td>\n",
       "      <td>59706800</td>\n",
       "    </tr>\n",
       "    <tr>\n",
       "      <th>...</th>\n",
       "      <td>...</td>\n",
       "      <td>...</td>\n",
       "      <td>...</td>\n",
       "      <td>...</td>\n",
       "      <td>...</td>\n",
       "      <td>...</td>\n",
       "    </tr>\n",
       "    <tr>\n",
       "      <th>2021-12-23</th>\n",
       "      <td>332.750000</td>\n",
       "      <td>336.390015</td>\n",
       "      <td>332.730011</td>\n",
       "      <td>334.690002</td>\n",
       "      <td>328.062042</td>\n",
       "      <td>19617800</td>\n",
       "    </tr>\n",
       "    <tr>\n",
       "      <th>2021-12-27</th>\n",
       "      <td>335.459991</td>\n",
       "      <td>342.480011</td>\n",
       "      <td>335.429993</td>\n",
       "      <td>342.450012</td>\n",
       "      <td>335.668365</td>\n",
       "      <td>19947000</td>\n",
       "    </tr>\n",
       "    <tr>\n",
       "      <th>2021-12-28</th>\n",
       "      <td>343.149994</td>\n",
       "      <td>343.809998</td>\n",
       "      <td>340.320007</td>\n",
       "      <td>341.250000</td>\n",
       "      <td>334.492188</td>\n",
       "      <td>15661500</td>\n",
       "    </tr>\n",
       "    <tr>\n",
       "      <th>2021-12-29</th>\n",
       "      <td>341.299988</td>\n",
       "      <td>344.299988</td>\n",
       "      <td>339.679993</td>\n",
       "      <td>341.950012</td>\n",
       "      <td>335.178314</td>\n",
       "      <td>15042000</td>\n",
       "    </tr>\n",
       "    <tr>\n",
       "      <th>2021-12-30</th>\n",
       "      <td>341.910004</td>\n",
       "      <td>343.130005</td>\n",
       "      <td>338.820007</td>\n",
       "      <td>339.320007</td>\n",
       "      <td>332.600403</td>\n",
       "      <td>15994500</td>\n",
       "    </tr>\n",
       "  </tbody>\n",
       "</table>\n",
       "<p>2516 rows × 6 columns</p>\n",
       "</div>"
      ],
      "text/plain": [
       "                  Open        High         Low       Close   Adj Close  \\\n",
       "Date                                                                     \n",
       "2012-01-03   26.549999   26.959999   26.389999   26.770000   21.238756   \n",
       "2012-01-04   26.820000   27.469999   26.780001   27.400000   21.738583   \n",
       "2012-01-05   27.379999   27.730000   27.290001   27.680000   21.960726   \n",
       "2012-01-06   27.530001   28.190001   27.530001   28.110001   22.301878   \n",
       "2012-01-09   28.049999   28.100000   27.719999   27.740000   22.008331   \n",
       "...                ...         ...         ...         ...         ...   \n",
       "2021-12-23  332.750000  336.390015  332.730011  334.690002  328.062042   \n",
       "2021-12-27  335.459991  342.480011  335.429993  342.450012  335.668365   \n",
       "2021-12-28  343.149994  343.809998  340.320007  341.250000  334.492188   \n",
       "2021-12-29  341.299988  344.299988  339.679993  341.950012  335.178314   \n",
       "2021-12-30  341.910004  343.130005  338.820007  339.320007  332.600403   \n",
       "\n",
       "              Volume  \n",
       "Date                  \n",
       "2012-01-03  64731500  \n",
       "2012-01-04  80516100  \n",
       "2012-01-05  56081400  \n",
       "2012-01-06  99455500  \n",
       "2012-01-09  59706800  \n",
       "...              ...  \n",
       "2021-12-23  19617800  \n",
       "2021-12-27  19947000  \n",
       "2021-12-28  15661500  \n",
       "2021-12-29  15042000  \n",
       "2021-12-30  15994500  \n",
       "\n",
       "[2516 rows x 6 columns]"
      ]
     },
     "execution_count": 4,
     "metadata": {},
     "output_type": "execute_result"
    }
   ],
   "source": [
    "df"
   ]
  },
  {
   "cell_type": "markdown",
   "id": "63a1af62-fda1-43ec-bbc9-7c4d4f9da30b",
   "metadata": {},
   "source": [
    "### Convert prices into returns\n",
    "\n",
    "By transforming the prices into returns we aim at make the time series stationary. There are two types of returns:\n",
    "\n",
    "- Simple returns: they aggregate over assets: eg\n",
    "  $$R_t = \\frac{P_t}{P_{t-1}-1}$$\n",
    "  \n",
    "- Log returns: they aggregate over time:\n",
    "  $$r_t = \\log\\Bigg(\\frac{P_t}{P_{t-1}}\\Bigg)$$\n",
    "\n",
    "In general log returns are preferred since, if we assume that the stock-prices are log-normally distributed, then the log returns would be normally distributed."
   ]
  },
  {
   "cell_type": "code",
   "execution_count": 5,
   "id": "aa071da5-5aa4-40f4-9d75-5e0eb9749c4f",
   "metadata": {
    "execution": {
     "iopub.execute_input": "2024-05-07T15:02:35.010882Z",
     "iopub.status.busy": "2024-05-07T15:02:35.009463Z",
     "iopub.status.idle": "2024-05-07T15:02:35.019945Z",
     "shell.execute_reply": "2024-05-07T15:02:35.018526Z",
     "shell.execute_reply.started": "2024-05-07T15:02:35.010810Z"
    }
   },
   "outputs": [],
   "source": [
    "#df = df[[\"Close\"]]\n",
    "df = df.loc[:, [\"Close\"]]\n",
    "#df[\"simple_rtn\"] = df.Close.pct_change()  # percentage change from pandas package\n",
    "df[\"log_rtn\"] = np.log(df.Close/df.Close.shift(1))\n",
    "df.dropna(inplace=True)\n"
   ]
  },
  {
   "cell_type": "markdown",
   "id": "f996e5f6-b842-46bd-b36b-bc1996cf515f",
   "metadata": {},
   "source": [
    "### Adjusting for inflation\n",
    "\n",
    "We want to decouple the growth of the stock prices from the inflation. We can do so by using this formula \n",
    "$$ R^r_t = \\frac{1+R_t}{1+\\pi_t}-1$$\n",
    "\n",
    "where $\\pi_t$ is the inflation rate."
   ]
  },
  {
   "cell_type": "code",
   "execution_count": 6,
   "id": "7b9ceb73-2200-46fb-959f-e8b13115e168",
   "metadata": {
    "execution": {
     "iopub.execute_input": "2024-05-07T15:02:35.022058Z",
     "iopub.status.busy": "2024-05-07T15:02:35.021486Z",
     "iopub.status.idle": "2024-05-07T15:02:35.030981Z",
     "shell.execute_reply": "2024-05-07T15:02:35.028768Z",
     "shell.execute_reply.started": "2024-05-07T15:02:35.022004Z"
    }
   },
   "outputs": [
    {
     "data": {
      "text/plain": [
       "'\\nimport cpi \\ncpi.update()\\ncpi_series = cpi.series.get()\\ndf_cpi = cpi_series.to_dataframe()\\ndf_cpi.query(\"period_type == \\'monthly\\' and year > 2010\")     .loc[:, [\"date\", \"value\"]]     .set_index(\"date\")     .head(12)\\n'"
      ]
     },
     "execution_count": 6,
     "metadata": {},
     "output_type": "execute_result"
    }
   ],
   "source": [
    "# Import the Consumer Price Index from the cpi package and query the correct entries\n",
    "'''\n",
    "import cpi \n",
    "cpi.update()\n",
    "cpi_series = cpi.series.get()\n",
    "df_cpi = cpi_series.to_dataframe()\n",
    "df_cpi.query(\"period_type == 'monthly' and year > 2010\") \\\n",
    "    .loc[:, [\"date\", \"value\"]] \\\n",
    "    .set_index(\"date\") \\\n",
    "    .head(12)\n",
    "'''"
   ]
  },
  {
   "cell_type": "markdown",
   "id": "e7cae087-f58b-4280-805a-4668030fa823",
   "metadata": {},
   "source": [
    "### Scaling data to (0,1)"
   ]
  },
  {
   "cell_type": "code",
   "execution_count": 7,
   "id": "156a03e8-7015-4def-a7e5-f5edec121c07",
   "metadata": {
    "execution": {
     "iopub.execute_input": "2024-05-07T15:02:35.033273Z",
     "iopub.status.busy": "2024-05-07T15:02:35.032882Z",
     "iopub.status.idle": "2024-05-07T15:02:35.564074Z",
     "shell.execute_reply": "2024-05-07T15:02:35.562759Z",
     "shell.execute_reply.started": "2024-05-07T15:02:35.033247Z"
    }
   },
   "outputs": [
    {
     "data": {
      "text/html": [
       "<div>\n",
       "<style scoped>\n",
       "    .dataframe tbody tr th:only-of-type {\n",
       "        vertical-align: middle;\n",
       "    }\n",
       "\n",
       "    .dataframe tbody tr th {\n",
       "        vertical-align: top;\n",
       "    }\n",
       "\n",
       "    .dataframe thead th {\n",
       "        text-align: right;\n",
       "    }\n",
       "</style>\n",
       "<table border=\"1\" class=\"dataframe\">\n",
       "  <thead>\n",
       "    <tr style=\"text-align: right;\">\n",
       "      <th></th>\n",
       "      <th>Close</th>\n",
       "      <th>log_rtn</th>\n",
       "    </tr>\n",
       "    <tr>\n",
       "      <th>Date</th>\n",
       "      <th></th>\n",
       "      <th></th>\n",
       "    </tr>\n",
       "  </thead>\n",
       "  <tbody>\n",
       "    <tr>\n",
       "      <th>2012-01-04</th>\n",
       "      <td>0.003252</td>\n",
       "      <td>0.624916</td>\n",
       "    </tr>\n",
       "    <tr>\n",
       "      <th>2012-01-05</th>\n",
       "      <td>0.004136</td>\n",
       "      <td>0.580133</td>\n",
       "    </tr>\n",
       "    <tr>\n",
       "      <th>2012-01-06</th>\n",
       "      <td>0.005493</td>\n",
       "      <td>0.598082</td>\n",
       "    </tr>\n",
       "    <tr>\n",
       "      <th>2012-01-09</th>\n",
       "      <td>0.004325</td>\n",
       "      <td>0.500042</td>\n",
       "    </tr>\n",
       "    <tr>\n",
       "      <th>2012-01-10</th>\n",
       "      <td>0.004641</td>\n",
       "      <td>0.557666</td>\n",
       "    </tr>\n",
       "    <tr>\n",
       "      <th>...</th>\n",
       "      <td>...</td>\n",
       "      <td>...</td>\n",
       "    </tr>\n",
       "    <tr>\n",
       "      <th>2021-12-23</th>\n",
       "      <td>0.973417</td>\n",
       "      <td>0.560619</td>\n",
       "    </tr>\n",
       "    <tr>\n",
       "      <th>2021-12-27</th>\n",
       "      <td>0.997916</td>\n",
       "      <td>0.623753</td>\n",
       "    </tr>\n",
       "    <tr>\n",
       "      <th>2021-12-28</th>\n",
       "      <td>0.994128</td>\n",
       "      <td>0.533353</td>\n",
       "    </tr>\n",
       "    <tr>\n",
       "      <th>2021-12-29</th>\n",
       "      <td>0.996338</td>\n",
       "      <td>0.552368</td>\n",
       "    </tr>\n",
       "    <tr>\n",
       "      <th>2021-12-30</th>\n",
       "      <td>0.988034</td>\n",
       "      <td>0.518952</td>\n",
       "    </tr>\n",
       "  </tbody>\n",
       "</table>\n",
       "<p>2515 rows × 2 columns</p>\n",
       "</div>"
      ],
      "text/plain": [
       "               Close   log_rtn\n",
       "Date                          \n",
       "2012-01-04  0.003252  0.624916\n",
       "2012-01-05  0.004136  0.580133\n",
       "2012-01-06  0.005493  0.598082\n",
       "2012-01-09  0.004325  0.500042\n",
       "2012-01-10  0.004641  0.557666\n",
       "...              ...       ...\n",
       "2021-12-23  0.973417  0.560619\n",
       "2021-12-27  0.997916  0.623753\n",
       "2021-12-28  0.994128  0.533353\n",
       "2021-12-29  0.996338  0.552368\n",
       "2021-12-30  0.988034  0.518952\n",
       "\n",
       "[2515 rows x 2 columns]"
      ]
     },
     "execution_count": 7,
     "metadata": {},
     "output_type": "execute_result"
    }
   ],
   "source": [
    "from sklearn.preprocessing import MinMaxScaler\n",
    "\n",
    "scaler = MinMaxScaler(feature_range=(0,1))\n",
    "scaler.fit(df)\n",
    "scaled_data = scaler.transform(df)\n",
    "scaled_df = pd.DataFrame(scaled_data, index=df.index, columns=df.columns)\n",
    "scaled_df"
   ]
  },
  {
   "cell_type": "markdown",
   "id": "a9918698-bc63-43c6-a2e6-39b60a844e7a",
   "metadata": {
    "execution": {
     "iopub.execute_input": "2024-05-06T13:38:33.817876Z",
     "iopub.status.busy": "2024-05-06T13:38:33.817143Z",
     "iopub.status.idle": "2024-05-06T13:38:33.822432Z",
     "shell.execute_reply": "2024-05-06T13:38:33.821269Z",
     "shell.execute_reply.started": "2024-05-06T13:38:33.817839Z"
    }
   },
   "source": [
    "# Train/test split"
   ]
  },
  {
   "cell_type": "code",
   "execution_count": 16,
   "id": "3b192f0c-4dde-4364-bb00-be98befd9f56",
   "metadata": {
    "execution": {
     "iopub.execute_input": "2024-05-07T15:03:54.561707Z",
     "iopub.status.busy": "2024-05-07T15:03:54.560751Z",
     "iopub.status.idle": "2024-05-07T15:03:54.569088Z",
     "shell.execute_reply": "2024-05-07T15:03:54.568098Z",
     "shell.execute_reply.started": "2024-05-07T15:03:54.561658Z"
    }
   },
   "outputs": [],
   "source": [
    "split = int(len(scaled_df) * 0.8)\n",
    "train = df[:split]\n",
    "test = df[split:]"
   ]
  },
  {
   "cell_type": "code",
   "execution_count": 17,
   "id": "a2c31e98-eb29-4ce7-98fa-f6d758522cf5",
   "metadata": {
    "execution": {
     "iopub.execute_input": "2024-05-07T15:03:55.134451Z",
     "iopub.status.busy": "2024-05-07T15:03:55.132262Z",
     "iopub.status.idle": "2024-05-07T15:03:55.190026Z",
     "shell.execute_reply": "2024-05-07T15:03:55.187959Z",
     "shell.execute_reply.started": "2024-05-07T15:03:55.134358Z"
    }
   },
   "outputs": [
    {
     "name": "stdout",
     "output_type": "stream",
     "text": [
      "(2009, 3, 2)\n",
      "(2009,)\n",
      "(500, 3, 2)\n",
      "(500,)\n"
     ]
    }
   ],
   "source": [
    "from finance.core.functions import preprocess_data\n",
    "\n",
    "n = 3\n",
    "target_col = 'log_rtn'\n",
    "\n",
    "X_train, y_train = preprocess_data(train, n=n, target_column=target_col)\n",
    "X_test, y_test = preprocess_data(test, n=n, target_column=target_col)\n",
    "\n",
    "print(X_train.shape)\n",
    "print(y_train.shape)\n",
    "print(X_test.shape)\n",
    "print(y_test.shape)"
   ]
  },
  {
   "cell_type": "code",
   "execution_count": 18,
   "id": "bbdb616b-8667-47b8-8894-9d6b91517dc4",
   "metadata": {
    "execution": {
     "iopub.execute_input": "2024-05-07T15:03:58.259572Z",
     "iopub.status.busy": "2024-05-07T15:03:58.259165Z",
     "iopub.status.idle": "2024-05-07T15:03:58.268898Z",
     "shell.execute_reply": "2024-05-07T15:03:58.267922Z",
     "shell.execute_reply.started": "2024-05-07T15:03:58.259537Z"
    }
   },
   "outputs": [
    {
     "name": "stdout",
     "output_type": "stream",
     "text": [
      "[[-0.01325  0.     ]]\n"
     ]
    },
    {
     "data": {
      "text/plain": [
       "array([[22.17319605, -0.15945341]])"
      ]
     },
     "execution_count": 18,
     "metadata": {},
     "output_type": "execute_result"
    }
   ],
   "source": [
    "y_train.iat[0]\n",
    "val = np.array(y_train.iat[0])\n",
    "val = np.c_[val,np.zeros(val.shape)]\n",
    "print(val)\n",
    "scaler.inverse_transform(val)"
   ]
  },
  {
   "cell_type": "code",
   "execution_count": 19,
   "id": "f8bf4e00-09a8-4df7-9b36-192909f6f544",
   "metadata": {
    "execution": {
     "iopub.execute_input": "2024-05-07T15:03:59.016991Z",
     "iopub.status.busy": "2024-05-07T15:03:59.016094Z",
     "iopub.status.idle": "2024-05-07T15:03:59.036887Z",
     "shell.execute_reply": "2024-05-07T15:03:59.034683Z",
     "shell.execute_reply.started": "2024-05-07T15:03:59.016912Z"
    }
   },
   "outputs": [
    {
     "data": {
      "text/html": [
       "<div>\n",
       "<style scoped>\n",
       "    .dataframe tbody tr th:only-of-type {\n",
       "        vertical-align: middle;\n",
       "    }\n",
       "\n",
       "    .dataframe tbody tr th {\n",
       "        vertical-align: top;\n",
       "    }\n",
       "\n",
       "    .dataframe thead th {\n",
       "        text-align: right;\n",
       "    }\n",
       "</style>\n",
       "<table border=\"1\" class=\"dataframe\">\n",
       "  <thead>\n",
       "    <tr style=\"text-align: right;\">\n",
       "      <th></th>\n",
       "      <th>Close</th>\n",
       "      <th>log_rtn</th>\n",
       "    </tr>\n",
       "    <tr>\n",
       "      <th>Date</th>\n",
       "      <th></th>\n",
       "      <th></th>\n",
       "    </tr>\n",
       "  </thead>\n",
       "  <tbody>\n",
       "  </tbody>\n",
       "</table>\n",
       "</div>"
      ],
      "text/plain": [
       "Empty DataFrame\n",
       "Columns: [Close, log_rtn]\n",
       "Index: []"
      ]
     },
     "execution_count": 19,
     "metadata": {},
     "output_type": "execute_result"
    }
   ],
   "source": [
    "df[ np.isclose( df['Close'], 2.80209039e+01 ) ]"
   ]
  },
  {
   "cell_type": "code",
   "execution_count": 20,
   "id": "1adb939c-d262-4dee-8788-cfa53e2d4c16",
   "metadata": {
    "execution": {
     "iopub.execute_input": "2024-05-07T15:03:59.597181Z",
     "iopub.status.busy": "2024-05-07T15:03:59.594796Z",
     "iopub.status.idle": "2024-05-07T15:03:59.964411Z",
     "shell.execute_reply": "2024-05-07T15:03:59.963564Z",
     "shell.execute_reply.started": "2024-05-07T15:03:59.597092Z"
    }
   },
   "outputs": [
    {
     "data": {
      "text/plain": [
       "[<matplotlib.lines.Line2D at 0x774f21e00610>]"
      ]
     },
     "execution_count": 20,
     "metadata": {},
     "output_type": "execute_result"
    },
    {
     "data": {
      "image/png": "[encoded data removed]",
      "text/plain": [
       "<Figure size 640x480 with 1 Axes>"
      ]
     },
     "metadata": {},
     "output_type": "display_data"
    }
   ],
   "source": [
    "import matplotlib.pyplot as plt \n",
    "\n",
    "plt.plot(y_train)\n",
    "plt.plot(y_test)"
   ]
  },
  {
   "cell_type": "code",
   "execution_count": 21,
   "id": "3483b791-4184-4b96-829b-50cd0600bfdf",
   "metadata": {
    "execution": {
     "iopub.execute_input": "2024-05-07T15:04:00.606380Z",
     "iopub.status.busy": "2024-05-07T15:04:00.605575Z",
     "iopub.status.idle": "2024-05-07T15:04:25.727536Z",
     "shell.execute_reply": "2024-05-07T15:04:25.726499Z",
     "shell.execute_reply.started": "2024-05-07T15:04:00.606334Z"
    }
   },
   "outputs": [
    {
     "name": "stdout",
     "output_type": "stream",
     "text": [
      "Epoch 1/100\n"
     ]
    },
    {
     "name": "stderr",
     "output_type": "stream",
     "text": [
      "/home/marco/Desktop/ATOM/Finance/.venv/lib/python3.10/site-packages/keras/src/layers/rnn/rnn.py:204: UserWarning: Do not pass an `input_shape`/`input_dim` argument to a layer. When using Sequential models, prefer using an `Input(shape)` object as the first layer in the model instead.\n",
      "  super().__init__(**kwargs)\n"
     ]
    },
    {
     "name": "stdout",
     "output_type": "stream",
     "text": [
      "84/84 - 2s - 19ms/step - loss: 0.2319 - val_loss: 5.1334e-04\n",
      "Epoch 2/100\n",
      "84/84 - 0s - 3ms/step - loss: 0.0043 - val_loss: 7.2312e-04\n",
      "Epoch 3/100\n",
      "84/84 - 0s - 3ms/step - loss: 0.0025 - val_loss: 7.8434e-04\n",
      "Epoch 4/100\n",
      "84/84 - 0s - 2ms/step - loss: 0.0018 - val_loss: 7.0792e-04\n",
      "Epoch 5/100\n",
      "84/84 - 0s - 2ms/step - loss: 0.0014 - val_loss: 5.8561e-04\n",
      "Epoch 6/100\n",
      "84/84 - 0s - 2ms/step - loss: 0.0011 - val_loss: 5.1165e-04\n",
      "Epoch 7/100\n",
      "84/84 - 0s - 2ms/step - loss: 8.7906e-04 - val_loss: 4.8436e-04\n",
      "Epoch 8/100\n",
      "84/84 - 0s - 2ms/step - loss: 7.1980e-04 - val_loss: 4.7268e-04\n",
      "Epoch 9/100\n",
      "84/84 - 0s - 3ms/step - loss: 6.0607e-04 - val_loss: 4.6953e-04\n",
      "Epoch 10/100\n",
      "84/84 - 0s - 3ms/step - loss: 5.3209e-04 - val_loss: 4.6711e-04\n",
      "Epoch 11/100\n",
      "84/84 - 0s - 2ms/step - loss: 4.5910e-04 - val_loss: 4.7010e-04\n",
      "Epoch 12/100\n",
      "84/84 - 0s - 2ms/step - loss: 4.1393e-04 - val_loss: 4.8288e-04\n",
      "Epoch 13/100\n",
      "84/84 - 0s - 2ms/step - loss: 3.7446e-04 - val_loss: 4.8311e-04\n",
      "Epoch 14/100\n",
      "84/84 - 0s - 2ms/step - loss: 3.4292e-04 - val_loss: 4.8793e-04\n",
      "Epoch 15/100\n",
      "84/84 - 0s - 2ms/step - loss: 3.2118e-04 - val_loss: 4.8883e-04\n",
      "Epoch 16/100\n",
      "84/84 - 0s - 2ms/step - loss: 3.0678e-04 - val_loss: 5.1328e-04\n",
      "Epoch 17/100\n",
      "84/84 - 0s - 2ms/step - loss: 2.8622e-04 - val_loss: 5.1163e-04\n",
      "Epoch 18/100\n",
      "84/84 - 0s - 2ms/step - loss: 2.7609e-04 - val_loss: 5.1152e-04\n",
      "Epoch 19/100\n",
      "84/84 - 0s - 2ms/step - loss: 2.6710e-04 - val_loss: 5.1230e-04\n",
      "Epoch 20/100\n",
      "84/84 - 0s - 2ms/step - loss: 2.6245e-04 - val_loss: 5.3158e-04\n",
      "Epoch 21/100\n",
      "84/84 - 0s - 2ms/step - loss: 2.5667e-04 - val_loss: 5.2457e-04\n",
      "Epoch 22/100\n",
      "84/84 - 0s - 2ms/step - loss: 2.5085e-04 - val_loss: 5.2189e-04\n",
      "Epoch 23/100\n",
      "84/84 - 0s - 2ms/step - loss: 2.4553e-04 - val_loss: 5.2358e-04\n",
      "Epoch 24/100\n",
      "84/84 - 0s - 2ms/step - loss: 2.4780e-04 - val_loss: 5.2680e-04\n",
      "Epoch 25/100\n",
      "84/84 - 0s - 2ms/step - loss: 2.3804e-04 - val_loss: 5.3990e-04\n",
      "Epoch 26/100\n",
      "84/84 - 0s - 2ms/step - loss: 2.4190e-04 - val_loss: 5.1143e-04\n",
      "Epoch 27/100\n",
      "84/84 - 0s - 3ms/step - loss: 2.3730e-04 - val_loss: 4.9836e-04\n",
      "Epoch 28/100\n",
      "84/84 - 0s - 2ms/step - loss: 2.3729e-04 - val_loss: 5.0309e-04\n",
      "Epoch 29/100\n",
      "84/84 - 0s - 2ms/step - loss: 2.3295e-04 - val_loss: 4.8827e-04\n",
      "Epoch 30/100\n",
      "84/84 - 0s - 4ms/step - loss: 2.3952e-04 - val_loss: 4.9320e-04\n",
      "Epoch 31/100\n",
      "84/84 - 0s - 3ms/step - loss: 2.3673e-04 - val_loss: 4.8799e-04\n",
      "Epoch 32/100\n",
      "84/84 - 0s - 4ms/step - loss: 2.3428e-04 - val_loss: 4.8053e-04\n",
      "Epoch 33/100\n",
      "84/84 - 0s - 4ms/step - loss: 2.3240e-04 - val_loss: 4.7883e-04\n",
      "Epoch 34/100\n",
      "84/84 - 0s - 2ms/step - loss: 2.2915e-04 - val_loss: 4.7835e-04\n",
      "Epoch 35/100\n",
      "84/84 - 0s - 4ms/step - loss: 2.3094e-04 - val_loss: 4.8453e-04\n",
      "Epoch 36/100\n",
      "84/84 - 1s - 7ms/step - loss: 2.3464e-04 - val_loss: 4.8281e-04\n",
      "Epoch 37/100\n",
      "84/84 - 0s - 2ms/step - loss: 2.2932e-04 - val_loss: 4.8832e-04\n",
      "Epoch 38/100\n",
      "84/84 - 0s - 2ms/step - loss: 2.1857e-04 - val_loss: 4.9447e-04\n",
      "Epoch 39/100\n",
      "84/84 - 0s - 2ms/step - loss: 2.2900e-04 - val_loss: 4.9506e-04\n",
      "Epoch 40/100\n",
      "84/84 - 0s - 2ms/step - loss: 2.2655e-04 - val_loss: 5.0115e-04\n",
      "Epoch 41/100\n",
      "84/84 - 0s - 2ms/step - loss: 2.2242e-04 - val_loss: 5.0654e-04\n",
      "Epoch 42/100\n",
      "84/84 - 0s - 2ms/step - loss: 2.2492e-04 - val_loss: 5.1243e-04\n",
      "Epoch 43/100\n",
      "84/84 - 0s - 2ms/step - loss: 2.2313e-04 - val_loss: 5.2074e-04\n",
      "Epoch 44/100\n",
      "84/84 - 0s - 2ms/step - loss: 2.2318e-04 - val_loss: 5.2940e-04\n",
      "Epoch 45/100\n",
      "84/84 - 0s - 2ms/step - loss: 2.1889e-04 - val_loss: 5.3516e-04\n",
      "Epoch 46/100\n",
      "84/84 - 0s - 2ms/step - loss: 2.2371e-04 - val_loss: 5.4288e-04\n",
      "Epoch 47/100\n",
      "84/84 - 0s - 2ms/step - loss: 2.2628e-04 - val_loss: 5.5771e-04\n",
      "Epoch 48/100\n",
      "84/84 - 0s - 2ms/step - loss: 2.2939e-04 - val_loss: 5.6276e-04\n",
      "Epoch 49/100\n",
      "84/84 - 0s - 2ms/step - loss: 2.2296e-04 - val_loss: 5.7144e-04\n",
      "Epoch 50/100\n",
      "84/84 - 0s - 3ms/step - loss: 2.2264e-04 - val_loss: 5.7797e-04\n",
      "Epoch 51/100\n",
      "84/84 - 0s - 2ms/step - loss: 2.1682e-04 - val_loss: 5.7820e-04\n",
      "Epoch 52/100\n",
      "84/84 - 0s - 2ms/step - loss: 2.1958e-04 - val_loss: 5.8092e-04\n",
      "Epoch 53/100\n",
      "84/84 - 0s - 2ms/step - loss: 2.3032e-04 - val_loss: 5.9615e-04\n",
      "Epoch 54/100\n",
      "84/84 - 0s - 2ms/step - loss: 2.2014e-04 - val_loss: 6.0084e-04\n",
      "Epoch 55/100\n",
      "84/84 - 0s - 2ms/step - loss: 2.2215e-04 - val_loss: 6.0432e-04\n",
      "Epoch 56/100\n",
      "84/84 - 0s - 2ms/step - loss: 2.2042e-04 - val_loss: 6.0352e-04\n",
      "Epoch 57/100\n",
      "84/84 - 0s - 2ms/step - loss: 2.2369e-04 - val_loss: 6.0471e-04\n",
      "Epoch 58/100\n",
      "84/84 - 0s - 4ms/step - loss: 2.2084e-04 - val_loss: 6.1644e-04\n",
      "Epoch 59/100\n",
      "84/84 - 1s - 7ms/step - loss: 2.2050e-04 - val_loss: 6.0868e-04\n",
      "Epoch 60/100\n",
      "84/84 - 0s - 2ms/step - loss: 2.2189e-04 - val_loss: 6.2007e-04\n",
      "Epoch 61/100\n",
      "84/84 - 0s - 2ms/step - loss: 2.2427e-04 - val_loss: 6.2245e-04\n",
      "Epoch 62/100\n",
      "84/84 - 0s - 2ms/step - loss: 2.1738e-04 - val_loss: 6.1707e-04\n",
      "Epoch 63/100\n",
      "84/84 - 0s - 4ms/step - loss: 2.2151e-04 - val_loss: 6.1392e-04\n",
      "Epoch 64/100\n",
      "84/84 - 0s - 3ms/step - loss: 2.1905e-04 - val_loss: 6.1630e-04\n",
      "Epoch 65/100\n",
      "84/84 - 0s - 4ms/step - loss: 2.1839e-04 - val_loss: 6.1107e-04\n",
      "Epoch 66/100\n",
      "84/84 - 0s - 2ms/step - loss: 2.1608e-04 - val_loss: 6.0523e-04\n",
      "Epoch 67/100\n",
      "84/84 - 0s - 3ms/step - loss: 2.2234e-04 - val_loss: 6.1138e-04\n",
      "Epoch 68/100\n",
      "84/84 - 0s - 3ms/step - loss: 2.1892e-04 - val_loss: 6.1349e-04\n",
      "Epoch 69/100\n",
      "84/84 - 0s - 3ms/step - loss: 2.2153e-04 - val_loss: 6.0869e-04\n",
      "Epoch 70/100\n",
      "84/84 - 0s - 2ms/step - loss: 2.2312e-04 - val_loss: 6.1575e-04\n",
      "Epoch 71/100\n",
      "84/84 - 0s - 3ms/step - loss: 2.2110e-04 - val_loss: 6.0856e-04\n",
      "Epoch 72/100\n",
      "84/84 - 0s - 2ms/step - loss: 2.2188e-04 - val_loss: 6.2270e-04\n",
      "Epoch 73/100\n",
      "84/84 - 0s - 2ms/step - loss: 2.2100e-04 - val_loss: 6.1848e-04\n",
      "Epoch 74/100\n",
      "84/84 - 0s - 2ms/step - loss: 2.2257e-04 - val_loss: 6.1112e-04\n",
      "Epoch 75/100\n",
      "84/84 - 0s - 4ms/step - loss: 2.2430e-04 - val_loss: 6.0838e-04\n",
      "Epoch 76/100\n",
      "84/84 - 0s - 3ms/step - loss: 2.1879e-04 - val_loss: 6.1003e-04\n",
      "Epoch 77/100\n",
      "84/84 - 0s - 3ms/step - loss: 2.1849e-04 - val_loss: 5.9486e-04\n",
      "Epoch 78/100\n",
      "84/84 - 0s - 2ms/step - loss: 2.2598e-04 - val_loss: 5.9805e-04\n",
      "Epoch 79/100\n",
      "84/84 - 0s - 2ms/step - loss: 2.1627e-04 - val_loss: 6.0264e-04\n",
      "Epoch 80/100\n",
      "84/84 - 0s - 2ms/step - loss: 2.1769e-04 - val_loss: 5.8956e-04\n",
      "Epoch 81/100\n",
      "84/84 - 0s - 4ms/step - loss: 2.3390e-04 - val_loss: 6.1097e-04\n",
      "Epoch 82/100\n",
      "84/84 - 0s - 2ms/step - loss: 2.2181e-04 - val_loss: 6.0050e-04\n",
      "Epoch 83/100\n",
      "84/84 - 0s - 2ms/step - loss: 2.2220e-04 - val_loss: 5.8358e-04\n",
      "Epoch 84/100\n",
      "84/84 - 0s - 2ms/step - loss: 2.1330e-04 - val_loss: 5.7391e-04\n",
      "Epoch 85/100\n",
      "84/84 - 0s - 2ms/step - loss: 2.2746e-04 - val_loss: 5.6962e-04\n",
      "Epoch 86/100\n",
      "84/84 - 0s - 2ms/step - loss: 2.2455e-04 - val_loss: 5.9551e-04\n",
      "Epoch 87/100\n",
      "84/84 - 0s - 3ms/step - loss: 2.2414e-04 - val_loss: 5.6857e-04\n",
      "Epoch 88/100\n",
      "84/84 - 0s - 2ms/step - loss: 2.2040e-04 - val_loss: 5.6087e-04\n",
      "Epoch 89/100\n",
      "84/84 - 1s - 6ms/step - loss: 2.3386e-04 - val_loss: 5.5498e-04\n",
      "Epoch 90/100\n",
      "84/84 - 1s - 8ms/step - loss: 2.1859e-04 - val_loss: 5.5772e-04\n",
      "Epoch 91/100\n",
      "84/84 - 0s - 4ms/step - loss: 2.1646e-04 - val_loss: 5.3999e-04\n",
      "Epoch 92/100\n",
      "84/84 - 0s - 3ms/step - loss: 2.1254e-04 - val_loss: 5.5086e-04\n",
      "Epoch 93/100\n",
      "84/84 - 0s - 4ms/step - loss: 2.2149e-04 - val_loss: 5.5272e-04\n",
      "Epoch 94/100\n",
      "84/84 - 0s - 3ms/step - loss: 2.1456e-04 - val_loss: 5.4983e-04\n",
      "Epoch 95/100\n",
      "84/84 - 0s - 3ms/step - loss: 2.1520e-04 - val_loss: 5.4992e-04\n",
      "Epoch 96/100\n",
      "84/84 - 0s - 3ms/step - loss: 2.1829e-04 - val_loss: 5.3851e-04\n",
      "Epoch 97/100\n",
      "84/84 - 0s - 3ms/step - loss: 2.2591e-04 - val_loss: 5.3532e-04\n",
      "Epoch 98/100\n",
      "84/84 - 0s - 3ms/step - loss: 2.4028e-04 - val_loss: 5.4384e-04\n",
      "Epoch 99/100\n",
      "84/84 - 0s - 3ms/step - loss: 2.2411e-04 - val_loss: 5.4439e-04\n",
      "Epoch 100/100\n",
      "84/84 - 0s - 3ms/step - loss: 2.2008e-04 - val_loss: 5.2399e-04\n"
     ]
    },
    {
     "data": {
      "text/html": [
       "<pre style=\"white-space:pre;overflow-x:auto;line-height:normal;font-family:Menlo,'DejaVu Sans Mono',consolas,'Courier New',monospace\"><span style=\"font-weight: bold\">Model: \"sequential_1\"</span>\n",
       "</pre>\n"
      ],
      "text/plain": [
       "\u001b[1mModel: \"sequential_1\"\u001b[0m\n"
      ]
     },
     "metadata": {},
     "output_type": "display_data"
    },
    {
     "data": {
      "text/html": [
       "<pre style=\"white-space:pre;overflow-x:auto;line-height:normal;font-family:Menlo,'DejaVu Sans Mono',consolas,'Courier New',monospace\">┏━━━━━━━━━━━━━━━━━━━━━━━━━━━━━━━━━┳━━━━━━━━━━━━━━━━━━━━━━━━┳━━━━━━━━━━━━━━━┓\n",
       "┃<span style=\"font-weight: bold\"> Layer (type)                    </span>┃<span style=\"font-weight: bold\"> Output Shape           </span>┃<span style=\"font-weight: bold\">       Param # </span>┃\n",
       "┡━━━━━━━━━━━━━━━━━━━━━━━━━━━━━━━━━╇━━━━━━━━━━━━━━━━━━━━━━━━╇━━━━━━━━━━━━━━━┩\n",
       "│ lstm_1 (<span style=\"color: #0087ff; text-decoration-color: #0087ff\">LSTM</span>)                   │ (<span style=\"color: #00d7ff; text-decoration-color: #00d7ff\">None</span>, <span style=\"color: #00af00; text-decoration-color: #00af00\">5</span>)              │           <span style=\"color: #00af00; text-decoration-color: #00af00\">160</span> │\n",
       "├─────────────────────────────────┼────────────────────────┼───────────────┤\n",
       "│ dense_1 (<span style=\"color: #0087ff; text-decoration-color: #0087ff\">Dense</span>)                 │ (<span style=\"color: #00d7ff; text-decoration-color: #00d7ff\">None</span>, <span style=\"color: #00af00; text-decoration-color: #00af00\">1</span>)              │             <span style=\"color: #00af00; text-decoration-color: #00af00\">6</span> │\n",
       "└─────────────────────────────────┴────────────────────────┴───────────────┘\n",
       "</pre>\n"
      ],
      "text/plain": [
       "┏━━━━━━━━━━━━━━━━━━━━━━━━━━━━━━━━━┳━━━━━━━━━━━━━━━━━━━━━━━━┳━━━━━━━━━━━━━━━┓\n",
       "┃\u001b[1m \u001b[0m\u001b[1mLayer (type)                   \u001b[0m\u001b[1m \u001b[0m┃\u001b[1m \u001b[0m\u001b[1mOutput Shape          \u001b[0m\u001b[1m \u001b[0m┃\u001b[1m \u001b[0m\u001b[1m      Param #\u001b[0m\u001b[1m \u001b[0m┃\n",
       "┡━━━━━━━━━━━━━━━━━━━━━━━━━━━━━━━━━╇━━━━━━━━━━━━━━━━━━━━━━━━╇━━━━━━━━━━━━━━━┩\n",
       "│ lstm_1 (\u001b[38;5;33mLSTM\u001b[0m)                   │ (\u001b[38;5;45mNone\u001b[0m, \u001b[38;5;34m5\u001b[0m)              │           \u001b[38;5;34m160\u001b[0m │\n",
       "├─────────────────────────────────┼────────────────────────┼───────────────┤\n",
       "│ dense_1 (\u001b[38;5;33mDense\u001b[0m)                 │ (\u001b[38;5;45mNone\u001b[0m, \u001b[38;5;34m1\u001b[0m)              │             \u001b[38;5;34m6\u001b[0m │\n",
       "└─────────────────────────────────┴────────────────────────┴───────────────┘\n"
      ]
     },
     "metadata": {},
     "output_type": "display_data"
    },
    {
     "data": {
      "text/html": [
       "<pre style=\"white-space:pre;overflow-x:auto;line-height:normal;font-family:Menlo,'DejaVu Sans Mono',consolas,'Courier New',monospace\"><span style=\"font-weight: bold\"> Total params: </span><span style=\"color: #00af00; text-decoration-color: #00af00\">500</span> (1.96 KB)\n",
       "</pre>\n"
      ],
      "text/plain": [
       "\u001b[1m Total params: \u001b[0m\u001b[38;5;34m500\u001b[0m (1.96 KB)\n"
      ]
     },
     "metadata": {},
     "output_type": "display_data"
    },
    {
     "data": {
      "text/html": [
       "<pre style=\"white-space:pre;overflow-x:auto;line-height:normal;font-family:Menlo,'DejaVu Sans Mono',consolas,'Courier New',monospace\"><span style=\"font-weight: bold\"> Trainable params: </span><span style=\"color: #00af00; text-decoration-color: #00af00\">166</span> (664.00 B)\n",
       "</pre>\n"
      ],
      "text/plain": [
       "\u001b[1m Trainable params: \u001b[0m\u001b[38;5;34m166\u001b[0m (664.00 B)\n"
      ]
     },
     "metadata": {},
     "output_type": "display_data"
    },
    {
     "data": {
      "text/html": [
       "<pre style=\"white-space:pre;overflow-x:auto;line-height:normal;font-family:Menlo,'DejaVu Sans Mono',consolas,'Courier New',monospace\"><span style=\"font-weight: bold\"> Non-trainable params: </span><span style=\"color: #00af00; text-decoration-color: #00af00\">0</span> (0.00 B)\n",
       "</pre>\n"
      ],
      "text/plain": [
       "\u001b[1m Non-trainable params: \u001b[0m\u001b[38;5;34m0\u001b[0m (0.00 B)\n"
      ]
     },
     "metadata": {},
     "output_type": "display_data"
    },
    {
     "data": {
      "text/html": [
       "<pre style=\"white-space:pre;overflow-x:auto;line-height:normal;font-family:Menlo,'DejaVu Sans Mono',consolas,'Courier New',monospace\"><span style=\"font-weight: bold\"> Optimizer params: </span><span style=\"color: #00af00; text-decoration-color: #00af00\">334</span> (1.31 KB)\n",
       "</pre>\n"
      ],
      "text/plain": [
       "\u001b[1m Optimizer params: \u001b[0m\u001b[38;5;34m334\u001b[0m (1.31 KB)\n"
      ]
     },
     "metadata": {},
     "output_type": "display_data"
    }
   ],
   "source": [
    "from finance.core.functions import lstm_model\n",
    "\n",
    "model = lstm_model(X_train, y_train, X_test, y_test)\n",
    "model.summary()"
   ]
  },
  {
   "cell_type": "code",
   "execution_count": 14,
   "id": "86f1b28f-e45e-4cef-afd8-0a9a4a89e415",
   "metadata": {
    "execution": {
     "iopub.execute_input": "2024-05-07T15:03:24.793743Z",
     "iopub.status.busy": "2024-05-07T15:03:24.793328Z",
     "iopub.status.idle": "2024-05-07T15:03:26.241831Z",
     "shell.execute_reply": "2024-05-07T15:03:26.240993Z",
     "shell.execute_reply.started": "2024-05-07T15:03:24.793714Z"
    }
   },
   "outputs": [
    {
     "name": "stdout",
     "output_type": "stream",
     "text": [
      "\u001b[1m63/63\u001b[0m \u001b[32m━━━━━━━━━━━━━━━━━━━━\u001b[0m\u001b[37m\u001b[0m \u001b[1m1s\u001b[0m 7ms/step\n"
     ]
    },
    {
     "data": {
      "text/plain": [
       "[<matplotlib.lines.Line2D at 0x774f21f745b0>]"
      ]
     },
     "execution_count": 14,
     "metadata": {},
     "output_type": "execute_result"
    },
    {
     "data": {
      "image/png": "[encoded data removed]",
      "text/plain": [
       "<Figure size 640x480 with 1 Axes>"
      ]
     },
     "metadata": {},
     "output_type": "display_data"
    }
   ],
   "source": [
    "y_pred = model.predict(X_train)\n",
    "\n",
    "plt.plot(y_train.values)\n",
    "plt.plot(y_pred)"
   ]
  },
  {
   "cell_type": "code",
   "execution_count": 15,
   "id": "5c43d54b-9c0c-4437-a61a-f6e331ae7a49",
   "metadata": {
    "execution": {
     "iopub.execute_input": "2024-05-07T15:03:26.243576Z",
     "iopub.status.busy": "2024-05-07T15:03:26.243119Z",
     "iopub.status.idle": "2024-05-07T15:03:26.850276Z",
     "shell.execute_reply": "2024-05-07T15:03:26.848327Z",
     "shell.execute_reply.started": "2024-05-07T15:03:26.243535Z"
    }
   },
   "outputs": [
    {
     "name": "stdout",
     "output_type": "stream",
     "text": [
      "\u001b[1m16/16\u001b[0m \u001b[32m━━━━━━━━━━━━━━━━━━━━\u001b[0m\u001b[37m\u001b[0m \u001b[1m0s\u001b[0m 3ms/step \n"
     ]
    },
    {
     "data": {
      "text/plain": [
       "[<matplotlib.lines.Line2D at 0x774f20e99420>]"
      ]
     },
     "execution_count": 15,
     "metadata": {},
     "output_type": "execute_result"
    },
    {
     "data": {
      "image/png": "[encoded data removed]",
      "text/plain": [
       "<Figure size 640x480 with 1 Axes>"
      ]
     },
     "metadata": {},
     "output_type": "display_data"
    }
   ],
   "source": [
    "y_pred = model.predict(X_test)\n",
    "\n",
    "plt.plot(y_test.values)\n",
    "plt.plot(y_pred)"
   ]
  },
  {
   "cell_type": "code",
   "execution_count": null,
   "id": "edd66c4e-2f81-4bba-8af8-b65801d91d81",
   "metadata": {},
   "outputs": [],
   "source": []
  }
 ],
 "metadata": {
  "kernelspec": {
   "display_name": "Python 3 (ipykernel)",
   "language": "python",
   "name": "python3"
  },
  "language_info": {
   "codemirror_mode": {
    "name": "ipython",
    "version": 3
   },
   "file_extension": ".py",
   "mimetype": "text/x-python",
   "name": "python",
   "nbconvert_exporter": "python",
   "pygments_lexer": "ipython3",
   "version": "3.10.12"
  }
 },
 "nbformat": 4,
 "nbformat_minor": 5
}
