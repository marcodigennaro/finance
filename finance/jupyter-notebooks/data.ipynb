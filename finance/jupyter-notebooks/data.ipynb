{
 "cells": [
  {
   "cell_type": "code",
   "execution_count": null,
   "id": "80b4b567-fdc8-4a24-8616-b3d53788f468",
   "metadata": {},
   "outputs": [],
   "source": [
    "import pandas as pd\n",
    "import yfinance as yf\n",
    "import numpy as np"
   ]
  },
  {
   "cell_type": "code",
   "execution_count": null,
   "id": "b32aca4f-7572-47eb-9cf6-2d6ada50dad8",
   "metadata": {},
   "outputs": [],
   "source": [
    "df = yf.download(\n",
    "    \"MSFT\",\n",
    "    start=\"2012-01-01\",\n",
    "    end=\"2021-12-31\",\n",
    "    progress=False\n",
    ")"
   ]
  },
  {
   "cell_type": "code",
   "execution_count": null,
   "id": "959485e5-7c63-4933-b8aa-3fffc55b140d",
   "metadata": {},
   "outputs": [],
   "source": [
    "df.describe()"
   ]
  },
  {
   "cell_type": "markdown",
   "id": "63a1af62-fda1-43ec-bbc9-7c4d4f9da30b",
   "metadata": {},
   "source": [
    "### Convert prices into returns\n",
    "\n",
    "By transforming the prices into returns we aim at make the time series stationary. There are two types of returns:\n",
    "\n",
    "- Simple returns: they aggregate over assets: eg\n",
    "  $$R_t = \\frac{P_t}{P_{t-1}-1}$$\n",
    "  \n",
    "- Log returns: they aggregate over time:\n",
    "  $$r_t = \\log\\Bigg(\\frac{P_t}{P_{t-1}}\\Bigg)$$\n",
    "\n",
    "In general log returns are preferred since, if we assume that the stock-prices are log-normally distributed, then the log returns would be normally distributed."
   ]
  },
  {
   "cell_type": "code",
   "execution_count": null,
   "id": "aa071da5-5aa4-40f4-9d75-5e0eb9749c4f",
   "metadata": {},
   "outputs": [],
   "source": [
    "#df = df[[\"Close\"]]\n",
    "df = df.loc[:, [\"Close\"]]\n",
    "df[\"simple_rtn\"] = df.Close.pct_change()  # percentage change from pandas package\n",
    "df[\"log_rtn\"] = np.log(df.Close/df.Close.shift(1))\n",
    "df"
   ]
  },
  {
   "cell_type": "markdown",
   "id": "f996e5f6-b842-46bd-b36b-bc1996cf515f",
   "metadata": {},
   "source": [
    "### Adjusting for inflation\n",
    "\n",
    "We want to decouple the growth of the stock prices from the inflation. We can do so by using this formula \n",
    "$$ R^r_t = \\frac{1+R_t}{1+\\pi_t}-1$$\n",
    "\n",
    "where $\\pi_t$ is the inflation rate."
   ]
  },
  {
   "cell_type": "code",
   "execution_count": null,
   "id": "7b9ceb73-2200-46fb-959f-e8b13115e168",
   "metadata": {},
   "outputs": [],
   "source": [
    "# Import the Consumer Price Index from the cpi package and query the correct entries\n",
    "import cpi \n",
    "cpi.update()\n",
    "cpi_series = cpi.series.get()\n",
    "df_cpi = cpi_series.to_dataframe()\n",
    "df_cpi.query(\"period_type == 'monthly' and year > 2010\") \\\n",
    "    .loc[:, [\"date\", \"value\"]] \\\n",
    "    .set_index(\"date\") \\\n",
    "    .head(12)\n"
   ]
  },
  {
   "cell_type": "code",
   "execution_count": null,
   "id": "638259ad-8dc6-4458-9410-d42daa9cc9a4",
   "metadata": {},
   "outputs": [],
   "source": [
    "import matplotlib.pyplot as plt"
   ]
  },
  {
   "cell_type": "code",
   "execution_count": null,
   "id": "f8d3617c-5c60-4afc-b0ca-f6b0c53e660b",
   "metadata": {},
   "outputs": [],
   "source": [
    "plt.plot(df.log_rtn)"
   ]
  },
  {
   "cell_type": "code",
   "execution_count": null,
   "id": "1225d7bd-95fe-416b-8cd5-6518ff515260",
   "metadata": {},
   "outputs": [],
   "source": [
    "df.dropna(inplace=True)"
   ]
  },
  {
   "cell_type": "code",
   "execution_count": null,
   "id": "ee25e157-29bf-4b11-a73a-581e95a9d56b",
   "metadata": {},
   "outputs": [],
   "source": [
    "X = df[[\"Close\", \"log_rtn\"]]"
   ]
  },
  {
   "cell_type": "code",
   "execution_count": null,
   "id": "156a03e8-7015-4def-a7e5-f5edec121c07",
   "metadata": {},
   "outputs": [],
   "source": [
    "from sklearn.preprocessing import MinMaxScaler"
   ]
  },
  {
   "cell_type": "code",
   "execution_count": null,
   "id": "d4501c7d-1b8f-469f-aedb-d90300b28146",
   "metadata": {},
   "outputs": [],
   "source": [
    "scaler = MinMaxScaler(feature_range=(0,1))\n",
    "scaler.fit(df)\n",
    "df_scaled = scaler.transform(df)\n",
    "X = df_scaled[:, 0]\n",
    "y = df_scaled[:, 2]"
   ]
  },
  {
   "cell_type": "markdown",
   "id": "a9918698-bc63-43c6-a2e6-39b60a844e7a",
   "metadata": {
    "execution": {
     "iopub.execute_input": "2024-05-06T13:38:33.817876Z",
     "iopub.status.busy": "2024-05-06T13:38:33.817143Z",
     "iopub.status.idle": "2024-05-06T13:38:33.822432Z",
     "shell.execute_reply": "2024-05-06T13:38:33.821269Z",
     "shell.execute_reply.started": "2024-05-06T13:38:33.817839Z"
    }
   },
   "source": [
    "# Train/test split"
   ]
  },
  {
   "cell_type": "code",
   "execution_count": null,
   "id": "3b192f0c-4dde-4364-bb00-be98befd9f56",
   "metadata": {},
   "outputs": [],
   "source": [
    "split =  int(len(X_scaled) * 0.8)\n",
    "split"
   ]
  },
  {
   "cell_type": "code",
   "execution_count": null,
   "id": "aeeb77d5-020f-49fe-b02c-4c663bcf2b12",
   "metadata": {},
   "outputs": [],
   "source": [
    "X_train = X[:split]\n",
    "X_test = X[split:]\n",
    "y_train = y[:split]\n",
    "y_test = y[split:]"
   ]
  },
  {
   "cell_type": "code",
   "execution_count": null,
   "id": "8aee2a81-224a-4fa9-bafa-1fe08b4a8da0",
   "metadata": {},
   "outputs": [],
   "source": [
    "plt.plot(list(range(len(y_train))), y_train)\n",
    "plt.plot(list(range(len(y_train), len(y_train)+len(y_test))), y_test)"
   ]
  },
  {
   "cell_type": "code",
   "execution_count": null,
   "id": "451d50ff-8b6d-41de-920b-df1f831692e2",
   "metadata": {},
   "outputs": [],
   "source": [
    "n = 3\n",
    "print(X_train.shape)\n",
    "for i in range(n, len(X_train)):\n",
    "    print(X_train[i-n:i, : X_train.shape[1]])"
   ]
  },
  {
   "cell_type": "code",
   "execution_count": null,
   "id": "50dd4eb2-c8dd-4849-afd9-ef3fbcf8399a",
   "metadata": {},
   "outputs": [],
   "source": [
    "bags_of_x = []\n",
    "bags_of_y = []\n",
    "\n",
    "for i in range(n, len(X_train)):\n",
    "    bags_of_x.append(X_train[i-n:i])\n",
    "    bags_of_y.append(y_train[i])"
   ]
  },
  {
   "cell_type": "code",
   "execution_count": null,
   "id": "dc8f298a-0caf-4e02-b80d-64ac08cfb41f",
   "metadata": {},
   "outputs": [],
   "source": [
    "import numpy as np\n",
    "from tensorflow.keras.models import Sequential\n",
    "from tensorflow.keras.layers import LSTM, Dense\n",
    "\n",
    "# Prepare data\n",
    "# X_train, X_test, y_train, y_test are already defined from your code\n",
    "\n",
    "# Reshape the data for LSTM input\n",
    "X_train = X_train.reshape(-1, 1, 2)  # Reshape to (samples, timesteps, features)\n",
    "X_test = X_test.reshape(-1, 1, 2)\n",
    "\n",
    "# Define the LSTM model\n",
    "model = Sequential([\n",
    "    LSTM(units=50, activation='relu', input_shape=(1, 2)),\n",
    "    Dense(units=1)\n",
    "])\n",
    "\n",
    "# Compile the model\n",
    "model.compile(optimizer='adam', loss='mean_squared_error')\n",
    "\n",
    "# Train the model\n",
    "model.fit(X_train, y_train, epochs=100, batch_size=32, verbose=1)\n",
    "\n",
    "# Evaluate the model\n",
    "loss = model.evaluate(X_test, y_test)\n",
    "print(\"Test Loss:\", loss)\n"
   ]
  },
  {
   "cell_type": "code",
   "execution_count": null,
   "id": "19074aaf-2df0-4bdd-8e74-89f5dc5eefcd",
   "metadata": {},
   "outputs": [],
   "source": [
    "!poetry add tensorflow\n"
   ]
  },
  {
   "cell_type": "code",
   "execution_count": null,
   "id": "8de7a6db-b5b7-4d94-8109-46ca9b28c990",
   "metadata": {},
   "outputs": [],
   "source": []
  }
 ],
 "metadata": {
  "kernelspec": {
   "display_name": "Python 3 (ipykernel)",
   "language": "python",
   "name": "python3"
  },
  "language_info": {
   "codemirror_mode": {
    "name": "ipython",
    "version": 3
   },
   "file_extension": ".py",
   "mimetype": "text/x-python",
   "name": "python",
   "nbconvert_exporter": "python",
   "pygments_lexer": "ipython3",
   "version": "3.10.12"
  }
 },
 "nbformat": 4,
 "nbformat_minor": 5
}
